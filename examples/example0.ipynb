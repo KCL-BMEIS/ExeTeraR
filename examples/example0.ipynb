{
 "cells": [
  {
   "cell_type": "markdown",
   "id": "311b0925-8c65-4270-aaa6-f964469b6fc6",
   "metadata": {},
   "source": [
    "Basic Usage of ExeTera\n",
    "1, Loading the Exetera library in R"
   ]
  },
  {
   "cell_type": "code",
   "execution_count": 1,
   "id": "281816ad-73ba-4f76-b9f0-31ac61a29840",
   "metadata": {},
   "outputs": [],
   "source": [
    "# Set the system environment of the path contains python binary\n",
    "Sys.setenv(RETICULATE_PYTHON_ENV=\"/home/jd21/miniconda3/bin/\")"
   ]
  },
  {
   "cell_type": "code",
   "execution_count": 2,
   "id": "fea5b1eb-c822-44de-aca2-ab1ca54afde4",
   "metadata": {},
   "outputs": [
    {
     "name": "stderr",
     "output_type": "stream",
     "text": [
      "Loading required package: usethis\n",
      "\n"
     ]
    },
    {
     "data": {
      "text/plain": [
       "python:         /home/jd21/miniconda3/bin/python\n",
       "libpython:      /home/jd21/miniconda3/lib/libpython3.8.so\n",
       "pythonhome:     /home/jd21/miniconda3:/home/jd21/miniconda3\n",
       "version:        3.8.5 (default, Sep  4 2020, 07:30:14)  [GCC 7.3.0]\n",
       "numpy:          /home/jd21/miniconda3/lib/python3.8/site-packages/numpy\n",
       "numpy_version:  1.20.3\n",
       "\n",
       "NOTE: Python version was forced by RETICULATE_PYTHON_ENV"
      ]
     },
     "metadata": {},
     "output_type": "display_data"
    }
   ],
   "source": [
    "library(reticulate)\n",
    "library(devtools)\n",
    "#Once both library loaded, use py_config() to check which python evnironment is used. If not the one \n",
    "#has ExeTera installed, call use_python() to change.\n",
    "py_config()"
   ]
  },
  {
   "cell_type": "code",
   "execution_count": 3,
   "id": "0805ea12-edf4-4021-bb1b-2003824f8da6",
   "metadata": {},
   "outputs": [
    {
     "name": "stderr",
     "output_type": "stream",
     "text": [
      "\u001b[36mℹ\u001b[39m Loading \u001b[34m\u001b[34mexetera\u001b[34m\u001b[39m\n",
      "\n"
     ]
    },
    {
     "data": {
      "text/plain": [
       "Module(exetera)"
      ]
     },
     "metadata": {},
     "output_type": "display_data"
    }
   ],
   "source": [
    "# Now load the ExeTera library; if not installed, use pip install exetera & pip install exetera-covid\n",
    "EXETERA_R_WRAPPER = \"/home/jd21/codes/exetera\"\n",
    "load_all(EXETERA_R_WRAPPER)\n",
    "exetera  # Now use can use exetera$ to call python class and methods"
   ]
  },
  {
   "cell_type": "markdown",
   "id": "1efbe402-9638-4f8d-a1de-0c7af54f1361",
   "metadata": {},
   "source": [
    "2, Processing a dataset using Exetara"
   ]
  },
  {
   "cell_type": "code",
   "execution_count": 4,
   "id": "194fa25d-c95f-4b69-8352-f67632b3c248",
   "metadata": {},
   "outputs": [],
   "source": [
    "# First, open an exetera session\n",
    "session = Session()  "
   ]
  },
  {
   "cell_type": "code",
   "execution_count": 5,
   "id": "42b57669-7a26-44d9-8c45-555a57dd5afd",
   "metadata": {},
   "outputs": [],
   "source": [
    "#  Note in python, the Exetera session is open via with statement. Without the same\n",
    "# statement in R, you need to call session$close() manually in the end of the script to make sure the\n",
    "# files are closed properly.\n",
    "# session$close()"
   ]
  },
  {
   "cell_type": "code",
   "execution_count": 6,
   "id": "e31dba5d-4732-4aa7-b3da-73708f7d793c",
   "metadata": {},
   "outputs": [
    {
     "data": {
      "text/html": [
       "<style>\n",
       ".list-inline {list-style: none; margin:0; padding: 0}\n",
       ".list-inline>li {display: inline-block}\n",
       ".list-inline>li:not(:last-child)::after {content: \"\\00b7\"; padding: 0 .5ex}\n",
       "</style>\n",
       "<ol class=list-inline><li>'df'</li><li>'df2'</li></ol>\n"
      ],
      "text/latex": [
       "\\begin{enumerate*}\n",
       "\\item 'df'\n",
       "\\item 'df2'\n",
       "\\end{enumerate*}\n"
      ],
      "text/markdown": [
       "1. 'df'\n",
       "2. 'df2'\n",
       "\n",
       "\n"
      ],
      "text/plain": [
       "[1] \"df\"  \"df2\""
      ]
     },
     "metadata": {},
     "output_type": "display_data"
    }
   ],
   "source": [
    "#Open the example dataset\n",
    "src = session$open_dataset('example.hdf5', 'r', 'src')  # filename, mode (r, r+, or w) and name in session\n",
    "dst = session$open_dataset('output.hdf5', 'w', 'dst') # Store the result\n",
    "result = dst$create_dataframe('results')\n",
    "# List the name of dataframes in the dataset\n",
    "ds.keys(src)"
   ]
  },
  {
   "cell_type": "code",
   "execution_count": 7,
   "id": "2904335d-0447-4df8-ab85-256cd99bca1c",
   "metadata": {},
   "outputs": [
    {
     "data": {
      "text/html": [
       "<style>\n",
       ".list-inline {list-style: none; margin:0; padding: 0}\n",
       ".list-inline>li {display: inline-block}\n",
       ".list-inline>li:not(:last-child)::after {content: \"\\00b7\"; padding: 0 .5ex}\n",
       "</style>\n",
       "<ol class=list-inline><li>'datestamp'</li><li>'fixed_string'</li><li>'num'</li></ol>\n"
      ],
      "text/latex": [
       "\\begin{enumerate*}\n",
       "\\item 'datestamp'\n",
       "\\item 'fixed\\_string'\n",
       "\\item 'num'\n",
       "\\end{enumerate*}\n"
      ],
      "text/markdown": [
       "1. 'datestamp'\n",
       "2. 'fixed_string'\n",
       "3. 'num'\n",
       "\n",
       "\n"
      ],
      "text/plain": [
       "[1] \"datestamp\"    \"fixed_string\" \"num\"         "
      ]
     },
     "metadata": {},
     "output_type": "display_data"
    }
   ],
   "source": [
    "# Get the Exetera dataframe object\n",
    "df = src['df']\n",
    "# List the fields in dataframe\n",
    "df.keys(df)"
   ]
  },
  {
   "cell_type": "markdown",
   "id": "32ab49cd-c886-4ee1-b0c0-c724c2115887",
   "metadata": {},
   "source": [
    "# change df.keys(df) to names(df) or colnames()"
   ]
  },
  {
   "cell_type": "code",
   "execution_count": 8,
   "id": "a36abd62-4a15-41ef-8f73-4153faf4509b",
   "metadata": {},
   "outputs": [
    {
     "data": {
      "text/html": [
       "<style>\n",
       ".list-inline {list-style: none; margin:0; padding: 0}\n",
       ".list-inline>li {display: inline-block}\n",
       ".list-inline>li:not(:last-child)::after {content: \"\\00b7\"; padding: 0 .5ex}\n",
       "</style>\n",
       "<ol class=list-inline><li>0</li><li>1</li><li>2</li><li>3</li><li>4</li><li>5</li><li>6</li><li>7</li><li>8</li><li>9</li></ol>\n"
      ],
      "text/latex": [
       "\\begin{enumerate*}\n",
       "\\item 0\n",
       "\\item 1\n",
       "\\item 2\n",
       "\\item 3\n",
       "\\item 4\n",
       "\\item 5\n",
       "\\item 6\n",
       "\\item 7\n",
       "\\item 8\n",
       "\\item 9\n",
       "\\end{enumerate*}\n"
      ],
      "text/markdown": [
       "1. 0\n",
       "2. 1\n",
       "3. 2\n",
       "4. 3\n",
       "5. 4\n",
       "6. 5\n",
       "7. 6\n",
       "8. 7\n",
       "9. 8\n",
       "10. 9\n",
       "\n",
       "\n"
      ],
      "text/plain": [
       " [1] 0 1 2 3 4 5 6 7 8 9"
      ]
     },
     "metadata": {},
     "output_type": "display_data"
    },
    {
     "data": {
      "text/html": [
       "<style>\n",
       ".list-inline {list-style: none; margin:0; padding: 0}\n",
       ".list-inline>li {display: inline-block}\n",
       ".list-inline>li:not(:last-child)::after {content: \"\\00b7\"; padding: 0 .5ex}\n",
       "</style>\n",
       "<ol class=list-inline><li>0</li><li>1</li><li>2</li><li>3</li></ol>\n"
      ],
      "text/latex": [
       "\\begin{enumerate*}\n",
       "\\item 0\n",
       "\\item 1\n",
       "\\item 2\n",
       "\\item 3\n",
       "\\end{enumerate*}\n"
      ],
      "text/markdown": [
       "1. 0\n",
       "2. 1\n",
       "3. 2\n",
       "4. 3\n",
       "\n",
       "\n"
      ],
      "text/plain": [
       "[1] 0 1 2 3"
      ]
     },
     "metadata": {},
     "output_type": "display_data"
    }
   ],
   "source": [
    "# Get the field object\n",
    "field = df['num']\n",
    "# Get the field content\n",
    "fld.data(field)\n",
    "# Partial content\n",
    "fld.data(field,0:3) # note the python array index start from zero"
   ]
  },
  {
   "cell_type": "code",
   "execution_count": 9,
   "id": "2f96c815-d4b3-438d-a8ef-7749c54fdce5",
   "metadata": {},
   "outputs": [
    {
     "data": {
      "text/html": [
       "<style>\n",
       ".list-inline {list-style: none; margin:0; padding: 0}\n",
       ".list-inline>li {display: inline-block}\n",
       ".list-inline>li:not(:last-child)::after {content: \"\\00b7\"; padding: 0 .5ex}\n",
       "</style>\n",
       "<ol class=list-inline><li>0</li><li>1</li><li>2</li><li>3</li><li>4</li><li>5</li><li>6</li><li>7</li><li>8</li><li>9</li><li>10</li></ol>\n"
      ],
      "text/latex": [
       "\\begin{enumerate*}\n",
       "\\item 0\n",
       "\\item 1\n",
       "\\item 2\n",
       "\\item 3\n",
       "\\item 4\n",
       "\\item 5\n",
       "\\item 6\n",
       "\\item 7\n",
       "\\item 8\n",
       "\\item 9\n",
       "\\item 10\n",
       "\\end{enumerate*}\n"
      ],
      "text/markdown": [
       "1. 0\n",
       "2. 1\n",
       "3. 2\n",
       "4. 3\n",
       "5. 4\n",
       "6. 5\n",
       "7. 6\n",
       "8. 7\n",
       "9. 8\n",
       "10. 9\n",
       "11. 10\n",
       "\n",
       "\n"
      ],
      "text/plain": [
       " [1]  0  1  2  3  4  5  6  7  8  9 10"
      ]
     },
     "metadata": {},
     "output_type": "display_data"
    },
    {
     "data": {
      "text/html": [
       "<style>\n",
       ".list-inline {list-style: none; margin:0; padding: 0}\n",
       ".list-inline>li {display: inline-block}\n",
       ".list-inline>li:not(:last-child)::after {content: \"\\00b7\"; padding: 0 .5ex}\n",
       "</style>\n",
       "<ol class=list-inline><li>0</li><li>1</li><li>2</li><li>3</li><li>4</li></ol>\n"
      ],
      "text/latex": [
       "\\begin{enumerate*}\n",
       "\\item 0\n",
       "\\item 1\n",
       "\\item 2\n",
       "\\item 3\n",
       "\\item 4\n",
       "\\end{enumerate*}\n"
      ],
      "text/markdown": [
       "1. 0\n",
       "2. 1\n",
       "3. 2\n",
       "4. 3\n",
       "5. 4\n",
       "\n",
       "\n"
      ],
      "text/plain": [
       "[1] 0 1 2 3 4"
      ]
     },
     "metadata": {},
     "output_type": "display_data"
    },
    {
     "data": {
      "text/plain": [
       "<exetera.core.fields.NumericField>"
      ]
     },
     "metadata": {},
     "output_type": "display_data"
    },
    {
     "data": {
      "text/html": [
       "<style>\n",
       ".list-inline {list-style: none; margin:0; padding: 0}\n",
       ".list-inline>li {display: inline-block}\n",
       ".list-inline>li:not(:last-child)::after {content: \"\\00b7\"; padding: 0 .5ex}\n",
       "</style>\n",
       "<ol class=list-inline><li>9</li><li>8</li><li>7</li><li>6</li><li>5</li><li>4</li><li>3</li><li>2</li><li>1</li><li>0</li></ol>\n"
      ],
      "text/latex": [
       "\\begin{enumerate*}\n",
       "\\item 9\n",
       "\\item 8\n",
       "\\item 7\n",
       "\\item 6\n",
       "\\item 5\n",
       "\\item 4\n",
       "\\item 3\n",
       "\\item 2\n",
       "\\item 1\n",
       "\\item 0\n",
       "\\end{enumerate*}\n"
      ],
      "text/markdown": [
       "1. 9\n",
       "2. 8\n",
       "3. 7\n",
       "4. 6\n",
       "5. 5\n",
       "6. 4\n",
       "7. 3\n",
       "8. 2\n",
       "9. 1\n",
       "10. 0\n",
       "\n",
       "\n"
      ],
      "text/plain": [
       " [1] 9 8 7 6 5 4 3 2 1 0"
      ]
     },
     "metadata": {},
     "output_type": "display_data"
    },
    {
     "data": {
      "text/plain": [
       "<exetera.core.fields.NumericField>"
      ]
     },
     "metadata": {},
     "output_type": "display_data"
    }
   ],
   "source": [
    "# Some ExeTera Field APIs\n",
    "# Spans\n",
    "field$get_spans()\n",
    "\n",
    "# Filter\n",
    "filter = ifelse(fld.data(field)<5, TRUE, FALSE)\n",
    "fld.data(field$apply_filter(filter)) # get applied content\n",
    "\n",
    "# Create a new field\n",
    "num2 = field$create_like(result, 'num2')\n",
    "field$apply_filter(filter, target=num2)  # write result to the new field\n",
    "\n",
    "# Re-indexing\n",
    "order_index = sort(fld.data(field), decreasing=TRUE)\n",
    "fld.data(field$apply_index(order_index))\n",
    "\n",
    "# Create a new field\n",
    "num3 = field$create_like(result, 'num3')\n",
    "field$apply_index(order_index, target=num3)  # write result to the new field"
   ]
  },
  {
   "cell_type": "code",
   "execution_count": 10,
   "id": "63372828-3aff-408d-a5f4-958861b375c8",
   "metadata": {},
   "outputs": [
    {
     "data": {
      "text/plain": [
       "<exetera.core.dataframe.HDF5DataFrame>"
      ]
     },
     "metadata": {},
     "output_type": "display_data"
    },
    {
     "data": {
      "text/html": [
       "<style>\n",
       ".list-inline {list-style: none; margin:0; padding: 0}\n",
       ".list-inline>li {display: inline-block}\n",
       ".list-inline>li:not(:last-child)::after {content: \"\\00b7\"; padding: 0 .5ex}\n",
       "</style>\n",
       "<ol class=list-inline><li>0</li><li>1</li><li>2</li><li>3</li><li>4</li></ol>\n"
      ],
      "text/latex": [
       "\\begin{enumerate*}\n",
       "\\item 0\n",
       "\\item 1\n",
       "\\item 2\n",
       "\\item 3\n",
       "\\item 4\n",
       "\\end{enumerate*}\n"
      ],
      "text/markdown": [
       "1. 0\n",
       "2. 1\n",
       "3. 2\n",
       "4. 3\n",
       "5. 4\n",
       "\n",
       "\n"
      ],
      "text/plain": [
       "[1] 0 1 2 3 4"
      ]
     },
     "metadata": {},
     "output_type": "display_data"
    },
    {
     "data": {
      "text/plain": [
       "<exetera.core.dataframe.HDF5DataFrame>"
      ]
     },
     "metadata": {},
     "output_type": "display_data"
    },
    {
     "data": {
      "text/html": [
       "<style>\n",
       ".list-inline {list-style: none; margin:0; padding: 0}\n",
       ".list-inline>li {display: inline-block}\n",
       ".list-inline>li:not(:last-child)::after {content: \"\\00b7\"; padding: 0 .5ex}\n",
       "</style>\n",
       "<ol class=list-inline><li>9</li><li>8</li><li>7</li><li>6</li><li>5</li><li>4</li><li>3</li><li>2</li><li>1</li><li>0</li></ol>\n"
      ],
      "text/latex": [
       "\\begin{enumerate*}\n",
       "\\item 9\n",
       "\\item 8\n",
       "\\item 7\n",
       "\\item 6\n",
       "\\item 5\n",
       "\\item 4\n",
       "\\item 3\n",
       "\\item 2\n",
       "\\item 1\n",
       "\\item 0\n",
       "\\end{enumerate*}\n"
      ],
      "text/markdown": [
       "1. 9\n",
       "2. 8\n",
       "3. 7\n",
       "4. 6\n",
       "5. 5\n",
       "6. 4\n",
       "7. 3\n",
       "8. 2\n",
       "9. 1\n",
       "10. 0\n",
       "\n",
       "\n"
      ],
      "text/plain": [
       " [1] 9 8 7 6 5 4 3 2 1 0"
      ]
     },
     "metadata": {},
     "output_type": "display_data"
    },
    {
     "data": {
      "text/html": [
       "<style>\n",
       ".list-inline {list-style: none; margin:0; padding: 0}\n",
       ".list-inline>li {display: inline-block}\n",
       ".list-inline>li:not(:last-child)::after {content: \"\\00b7\"; padding: 0 .5ex}\n",
       "</style>\n",
       "<ol class=list-inline><li>'datestamp'</li><li>'fixed_string_l'</li><li>'num_l'</li><li>'fixed_string_r'</li><li>'num_r'</li></ol>\n"
      ],
      "text/latex": [
       "\\begin{enumerate*}\n",
       "\\item 'datestamp'\n",
       "\\item 'fixed\\_string\\_l'\n",
       "\\item 'num\\_l'\n",
       "\\item 'fixed\\_string\\_r'\n",
       "\\item 'num\\_r'\n",
       "\\end{enumerate*}\n"
      ],
      "text/markdown": [
       "1. 'datestamp'\n",
       "2. 'fixed_string_l'\n",
       "3. 'num_l'\n",
       "4. 'fixed_string_r'\n",
       "5. 'num_r'\n",
       "\n",
       "\n"
      ],
      "text/plain": [
       "[1] \"datestamp\"      \"fixed_string_l\" \"num_l\"          \"fixed_string_r\"\n",
       "[5] \"num_r\"         "
      ]
     },
     "metadata": {},
     "output_type": "display_data"
    },
    {
     "data": {
      "text/html": [
       "<style>\n",
       ".list-inline {list-style: none; margin:0; padding: 0}\n",
       ".list-inline>li {display: inline-block}\n",
       ".list-inline>li:not(:last-child)::after {content: \"\\00b7\"; padding: 0 .5ex}\n",
       "</style>\n",
       "<ol class=list-inline><li>0</li><li>1</li><li>2</li><li>3</li><li>4</li><li>5</li><li>6</li><li>7</li><li>8</li><li>9</li></ol>\n"
      ],
      "text/latex": [
       "\\begin{enumerate*}\n",
       "\\item 0\n",
       "\\item 1\n",
       "\\item 2\n",
       "\\item 3\n",
       "\\item 4\n",
       "\\item 5\n",
       "\\item 6\n",
       "\\item 7\n",
       "\\item 8\n",
       "\\item 9\n",
       "\\end{enumerate*}\n"
      ],
      "text/markdown": [
       "1. 0\n",
       "2. 1\n",
       "3. 2\n",
       "4. 3\n",
       "5. 4\n",
       "6. 5\n",
       "7. 6\n",
       "8. 7\n",
       "9. 8\n",
       "10. 9\n",
       "\n",
       "\n"
      ],
      "text/plain": [
       " [1] 0 1 2 3 4 5 6 7 8 9"
      ]
     },
     "metadata": {},
     "output_type": "display_data"
    }
   ],
   "source": [
    "# Some ExeTera DataFrame APIs\n",
    "df = src['df2']\n",
    "field = df['num']\n",
    "\n",
    "# Filter\n",
    "result2 = dst$create_dataframe('result2')\n",
    "filter = ifelse(fld.data(field)<5, TRUE, FALSE)\n",
    "df$apply_filter(filter, ddf=result2)  # destructive if the ddf= is not specified\n",
    "fld.data(result2['num'])\n",
    "\n",
    "# # Re-indexing\n",
    "result3 = dst$create_dataframe('result3')\n",
    "order_index = sort(fld.data(field), decreasing=TRUE)\n",
    "df$apply_index(order_index, ddf=result3)\n",
    "fld.data(result3['num'])\n",
    "\n",
    "# Merge\n",
    "result4 = dst$create_dataframe('result4')\n",
    "exetera$core$dataframe$merge(left=src['df'], right=src['df2'], dest=result4, left_on='num', right_on='num')\n",
    "df.keys(result4)\n",
    "fld.data(result4['num_l'])"
   ]
  },
  {
   "cell_type": "code",
   "execution_count": 11,
   "id": "9988179e-3356-45ec-bdcc-35042479c0d6",
   "metadata": {},
   "outputs": [],
   "source": [
    "session$close()"
   ]
  },
  {
   "cell_type": "code",
   "execution_count": null,
   "id": "dc36bbf5-1561-4f94-aa8e-dadb1695520c",
   "metadata": {},
   "outputs": [],
   "source": []
  }
 ],
 "metadata": {
  "kernelspec": {
   "display_name": "R",
   "language": "R",
   "name": "ir"
  },
  "language_info": {
   "codemirror_mode": "r",
   "file_extension": ".r",
   "mimetype": "text/x-r-source",
   "name": "R",
   "pygments_lexer": "r",
   "version": "3.6.3"
  }
 },
 "nbformat": 4,
 "nbformat_minor": 5
}
